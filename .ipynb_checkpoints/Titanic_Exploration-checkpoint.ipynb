{
 "cells": [
  {
   "cell_type": "code",
   "execution_count": 2,
   "id": "c59d6d02-97d4-4c40-8a95-a50b15a00dc3",
   "metadata": {},
   "outputs": [],
   "source": [
    "import pandas as pd\n",
    "import numpy as np\n",
    "import matplotlib.pyplot as plt\n",
    "import seaborn as sns"
   ]
  },
  {
   "cell_type": "code",
   "execution_count": 3,
   "id": "8629e66f-19da-4622-8380-ca2680ef9e32",
   "metadata": {},
   "outputs": [],
   "source": [
    "df = pd.read_csv(\"https://raw.githubusercontent.com/datasciencedojo/datasets/master/titanic.csv\")"
   ]
  },
  {
   "cell_type": "code",
   "execution_count": 4,
   "id": "135e02d3-576d-49cc-9a3a-5c2d55de5253",
   "metadata": {},
   "outputs": [
    {
     "name": "stdout",
     "output_type": "stream",
     "text": [
      "Out of 314 females on board, 233 survived.\n",
      "The percentage that survived is: 74.2%\n"
     ]
    }
   ],
   "source": [
    "female_survived = len(df[(df[\"Sex\"] == \"female\") & (df[\"Survived\"] == 1)])\n",
    "total_female = len(df[df[\"Sex\"] == \"female\"])\n",
    "\n",
    "print(\"Out of \" + str(total_female) + \" females on board, \" + str(female_survived) + \" survived.\")\n",
    "percentage = (female_survived/total_female) * 100\n",
    "print(\"The percentage that survived is: \" + str(round(percentage, 2)) + \"%\")"
   ]
  },
  {
   "cell_type": "code",
   "execution_count": null,
   "id": "63ef09a9-2c75-43a1-9162-93d40bf0568b",
   "metadata": {},
   "outputs": [],
   "source": []
  }
 ],
 "metadata": {
  "kernelspec": {
   "display_name": "Python 3 (ipykernel)",
   "language": "python",
   "name": "python3"
  },
  "language_info": {
   "codemirror_mode": {
    "name": "ipython",
    "version": 3
   },
   "file_extension": ".py",
   "mimetype": "text/x-python",
   "name": "python",
   "nbconvert_exporter": "python",
   "pygments_lexer": "ipython3",
   "version": "3.13.3"
  }
 },
 "nbformat": 4,
 "nbformat_minor": 5
}
